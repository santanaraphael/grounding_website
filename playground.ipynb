{
 "cells": [
  {
   "cell_type": "code",
   "execution_count": 19,
   "metadata": {},
   "outputs": [],
   "source": [
    "import math\n",
    "\n",
    "def eval_conductor_section(fault_current, kf, trip_time):        \n",
    "    conductor_section_kcmil = fault_current*kf*math.sqrt(trip_time)\n",
    "    conductor_section_mm = conductor_section_kcmil/1.974\n",
    "    diameter = (2*math.sqrt(conductor_section_mm/math.pi))/1000 # Diameter should be returned in meters\n",
    "    return diameter\n",
    "\n",
    "def calc_max_values(trip_time, ground_ro, gravel_ro, gravel_depth):\n",
    "    max_current = 0.157/math.sqrt(trip_time)\n",
    "    correction_factor = 1 - (0.09*(1-ground_ro/gravel_ro\n",
    "                                   )/(2*gravel_depth+0.09))\n",
    "\n",
    "    max_touch_voltage = (1000+1.5*correction_factor*gravel_ro)*max_current\n",
    "    max_step_voltage = (1000+6*correction_factor*gravel_ro)*max_current\n",
    "    print(correction_factor)\n",
    "    return max_touch_voltage, max_step_voltage"
   ]
  },
  {
   "cell_type": "code",
   "execution_count": 20,
   "metadata": {},
   "outputs": [
    {
     "name": "stdout",
     "output_type": "stream",
     "text": [
      "0.7428571428571429\n",
      "(840.5479323218946, 2696.0971414098503)\n"
     ]
    }
   ],
   "source": [
    "print(calc_max_values(0.5, 400, 2500, 0.102))"
   ]
  }
 ],
 "metadata": {
  "kernelspec": {
   "display_name": "Python 3",
   "language": "python",
   "name": "python3"
  },
  "language_info": {
   "codemirror_mode": {
    "name": "ipython",
    "version": 3
   },
   "file_extension": ".py",
   "mimetype": "text/x-python",
   "name": "python",
   "nbconvert_exporter": "python",
   "pygments_lexer": "ipython3",
   "version": "3.5.2"
  }
 },
 "nbformat": 4,
 "nbformat_minor": 2
}
