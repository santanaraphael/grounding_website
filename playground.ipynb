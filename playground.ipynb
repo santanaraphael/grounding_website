{
 "cells": [
  {
   "cell_type": "code",
   "execution_count": 112,
   "metadata": {},
   "outputs": [],
   "source": [
    "import math\n",
    "\n",
    "def eval_conductor_section(fault_current, kf, trip_time):        \n",
    "    conductor_section_kcmil = fault_current*kf*math.sqrt(trip_time)\n",
    "    conductor_section_mm = conductor_section_kcmil/1.974\n",
    "    diameter = (2*math.sqrt(conductor_section_mm/math.pi))/1000 # Diameter should be returned in meters\n",
    "    return diameter\n",
    "\n",
    "def calc_max_values(trip_time, ground_ro, gravel_ro, gravel_depth):\n",
    "    max_current = 0.157/math.sqrt(trip_time)\n",
    "    correction_factor = 1 - (0.09*(1-ground_ro/gravel_ro\n",
    "                                   )/(2*gravel_depth+0.09))\n",
    "\n",
    "    max_touch_voltage = (1000+1.5*correction_factor*gravel_ro)*max_current\n",
    "    max_step_voltage = (1000+6*correction_factor*gravel_ro)*max_current\n",
    "    print(correction_factor)\n",
    "    return max_touch_voltage, max_step_voltage\n",
    "\n",
    "def eval_grid_resistance(width, height, depth, spacement, ground_ro):\n",
    "    horizontal_conductors = (height/spacement)+1\n",
    "    vertical_conductors = (width/spacement) + 1\n",
    "    total_length = horizontal_conductors*width + vertical_conductors*height\n",
    "    area = width*height\n",
    "    equivalent_resistance = ground_ro*(\n",
    "        (1/total_length)+(1/math.sqrt(20*area))*(\n",
    "        1 + (1/(1+depth*math.sqrt(20/area)))))\n",
    "    return equivalent_resistance\n",
    "\n",
    "def eval_gpr(maximum_current, grid_resistance):\n",
    "    gpr = maximum_current*grid_resistance\n",
    "    return gpr\n",
    "\n",
    "def eval_voltages(ground_rods, width, height, depth, ro, ig, rods_length, rods_number):\n",
    "    horizontal_conductors = (height/spacement)+1\n",
    "    vertical_conductors = (width/spacement) + 1\n",
    "    total_length = horizontal_conductors*width + vertical_conductors*height\n",
    "    if not ground_rods:\n",
    "        lm = total_length+rods_length\n",
    "        print(lm)\n",
    "    else:\n",
    "        ind_rod = (rods_length/rods_number)\n",
    "        lm = total_length + rods_length*(1.55+(1.22*(ind_rod/math.sqrt(math.pow(height, 2)+math.pow(width, 2)))))\n",
    "        print(lm)\n",
    "    area = width*height\n",
    "    perimeter = 2*width+2*height\n",
    "    na = (2*total_length)/perimeter\n",
    "    nb = math.sqrt(perimeter/(4*math.sqrt(area)))\n",
    "    # Because we only accept square or retangular grinds, we don't need to compute nc and nd\n",
    "    n_eq = na*nb\n",
    "    if ground_rods:\n",
    "        kii = 1\n",
    "    else:\n",
    "        kii = (1/math.pow(2*n_eq,(2/n_eq)))\n",
    "    \n",
    "\n",
    "    ki = 0.644 + 0.148*n_eq\n",
    "    kh = math.sqrt(1+depth)\n",
    "    km = (1/(2*math.pi))*(math.log(\n",
    "    (math.pow(spacement,2)/(16*depth*diameter))+(math.pow(spacement+2*depth, 2)/(8*spacement*diameter))-(depth/(4*diameter)))+\n",
    "                             (kii/kh)*math.log(8/(math.pi*(2*n-1))))\n",
    "    mesh_voltage = (ro*km*ki*ig)/(lm)\n",
    "    \n",
    "    \n",
    "    \n",
    "    return mesh_voltage\n",
    "\n",
    "    \n",
    "    \n",
    "    "
   ]
  },
  {
   "cell_type": "code",
   "execution_count": 116,
   "metadata": {},
   "outputs": [
    {
     "name": "stdout",
     "output_type": "stream",
     "text": [
      "2162.1963370858184\n",
      "618.8575806946649\n"
     ]
    }
   ],
   "source": [
    "print(eval_voltages(False, 70, 70, 0.5, 400, 1908, 320, 10))"
   ]
  },
  {
   "cell_type": "code",
   "execution_count": 32,
   "metadata": {},
   "outputs": [],
   "source": [
    "height = 20\n",
    "width = 50\n",
    "spacement = 1"
   ]
  },
  {
   "cell_type": "code",
   "execution_count": 33,
   "metadata": {},
   "outputs": [],
   "source": [
    "horizontal_conductors = (height/spacement)+1\n",
    "vertical_conductors = (width/spacement) + 1\n",
    "total_length = horizontal_conductors*width + vertical_conductors*height\n",
    "area = width*height\n",
    "perimeter = 2*width+2*height\n",
    "nb = math.sqrt(perimeter/(4*math.sqrt(area)))\n",
    "na = (2*total_length)/perimeter"
   ]
  },
  {
   "cell_type": "code",
   "execution_count": 78,
   "metadata": {},
   "outputs": [],
   "source": [
    "spacement = 7\n",
    "depth = 0.5\n",
    "diameter = 0.01\n",
    "n = 11\n",
    "kii = 0.57\n",
    "kh = 1.225"
   ]
  },
  {
   "cell_type": "code",
   "execution_count": 70,
   "metadata": {},
   "outputs": [
    {
     "name": "stdout",
     "output_type": "stream",
     "text": [
      "0.889608517824586\n"
     ]
    }
   ],
   "source": [
    "eval"
   ]
  },
  {
   "cell_type": "code",
   "execution_count": 77,
   "metadata": {},
   "outputs": [
    {
     "name": "stdout",
     "output_type": "stream",
     "text": [
      "doing calc for spacement = 7m\n",
      "0.889608517824586\n",
      "doing calc for spacement = 6.5m\n",
      "0.8680499747589654\n",
      "doing calc for spacement = 6.0m\n",
      "0.844967815399228\n",
      "doing calc for spacement = 5.5m\n",
      "0.8201404191026942\n",
      "doing calc for spacement = 5.0m\n",
      "0.7932980839200245\n",
      "doing calc for spacement = 4.5m\n",
      "0.7641105786950384\n",
      "doing calc for spacement = 4.0m\n",
      "0.7321728455785488\n",
      "doing calc for spacement = 3.5m\n",
      "0.6969924547655152\n",
      "doing calc for spacement = 3.0m\n",
      "0.6579923611366824\n",
      "doing calc for spacement = 2.5m\n",
      "0.6145759335412208\n",
      "doing calc for spacement = 2.0m\n",
      "0.5664203133974388\n",
      "doing calc for spacement = 1.5m\n",
      "0.5146277297754377\n",
      "doing calc for spacement = 1.0m\n",
      "0.4663741379799984\n"
     ]
    }
   ],
   "source": []
  },
  {
   "cell_type": "code",
   "execution_count": 66,
   "metadata": {},
   "outputs": [
    {
     "data": {
      "text/plain": [
       "-0.9817078740236755"
      ]
     },
     "execution_count": 66,
     "metadata": {},
     "output_type": "execute_result"
    }
   ],
   "source": [
    "(kii/kh)*math.log(8/(math.pi*(2*n-1)))"
   ]
  },
  {
   "cell_type": "code",
   "execution_count": 67,
   "metadata": {},
   "outputs": [
    {
     "data": {
      "text/plain": [
       "6.571283042360924"
      ]
     },
     "execution_count": 67,
     "metadata": {},
     "output_type": "execute_result"
    }
   ],
   "source": [
    "math.log((math.pow(spacement,2)/(16*depth*diameter))\n",
    "                             +(math.pow(spacement+2*depth, 2)/(8*spacement*diameter))-(depth/(4*diameter)))"
   ]
  }
 ],
 "metadata": {
  "kernelspec": {
   "display_name": "Python 3",
   "language": "python",
   "name": "python3"
  },
  "language_info": {
   "codemirror_mode": {
    "name": "ipython",
    "version": 3
   },
   "file_extension": ".py",
   "mimetype": "text/x-python",
   "name": "python",
   "nbconvert_exporter": "python",
   "pygments_lexer": "ipython3",
   "version": "3.5.2"
  }
 },
 "nbformat": 4,
 "nbformat_minor": 2
}
