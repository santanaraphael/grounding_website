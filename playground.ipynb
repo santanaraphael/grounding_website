{
 "cells": [
  {
   "cell_type": "code",
   "execution_count": 35,
   "metadata": {},
   "outputs": [],
   "source": [
    "import math\n",
    "\n",
    "def eval_conductor_section(fault_current, kf, trip_time):        \n",
    "    conductor_section_kcmil = fault_current*kf*math.sqrt(trip_time)\n",
    "    conductor_section_mm = conductor_section_kcmil/1.974\n",
    "    diameter = (2*math.sqrt(conductor_section_mm/math.pi))/1000 # Diameter should be returned in meters\n",
    "    return diameter\n",
    "\n",
    "def calc_max_values(trip_time, ground_ro, gravel_ro, gravel_depth):\n",
    "    max_current = 0.157/math.sqrt(trip_time)\n",
    "    correction_factor = 1 - (0.09*(1-ground_ro/gravel_ro\n",
    "                                   )/(2*gravel_depth+0.09))\n",
    "\n",
    "    max_touch_voltage = (1000+1.5*correction_factor*gravel_ro)*max_current\n",
    "    max_step_voltage = (1000+6*correction_factor*gravel_ro)*max_current\n",
    "    print(correction_factor)\n",
    "    return max_touch_voltage, max_step_voltage\n",
    "\n",
    "def eval_grid_resistance(width, height, depth, spacement, ground_ro):\n",
    "    horizontal_conductors = (height/spacement)+1\n",
    "    vertical_conductors = (width/spacement) + 1\n",
    "    total_length = horizontal_conductors*width + vertical_conductors*height\n",
    "    area = width*height\n",
    "    equivalent_resistance = ground_ro*(\n",
    "        (1/total_length)+(1/math.sqrt(20*area))*(\n",
    "        1 + (1/(1+depth*math.sqrt(20/area)))))\n",
    "    return equivalent_resistance\n",
    "\n",
    "def eval_gpr(maximum_current, grid_resistance):\n",
    "    gpr = maximum_current*grid_resistance\n",
    "    return gpr"
   ]
  },
  {
   "cell_type": "code",
   "execution_count": 37,
   "metadata": {},
   "outputs": [
    {
     "name": "stdout",
     "output_type": "stream",
     "text": [
      "5296.0235087671645\n",
      "2.7756936628758724\n"
     ]
    }
   ],
   "source": [
    "grid_r = eval_grid_resistance(70, 70, 0.5, 7, 400)\n",
    "print(eval_gpr(1908, grid_r))\n",
    "print(grid_r)"
   ]
  }
 ],
 "metadata": {
  "kernelspec": {
   "display_name": "Python 3",
   "language": "python",
   "name": "python3"
  },
  "language_info": {
   "codemirror_mode": {
    "name": "ipython",
    "version": 3
   },
   "file_extension": ".py",
   "mimetype": "text/x-python",
   "name": "python",
   "nbconvert_exporter": "python",
   "pygments_lexer": "ipython3",
   "version": "3.5.2"
  }
 },
 "nbformat": 4,
 "nbformat_minor": 2
}
