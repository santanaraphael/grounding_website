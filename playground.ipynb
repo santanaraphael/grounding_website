{
 "cells": [
  {
   "cell_type": "code",
   "execution_count": 120,
   "metadata": {},
   "outputs": [],
   "source": [
    "import math\n",
    "from pprint import pprint\n",
    "import matplotlib.pyplot as plt\n",
    "\n",
    "def draw_line(array1, array2, formatting):\n",
    "    plt.plot(array1, array2, formatting)\n",
    "\n",
    "\n",
    "def draw_graph(graphs):\n",
    "    number = len(graphs)\n",
    "    \n",
    "    for index, graph_data in enumerate(graphs):\n",
    "        plt.subplot(number, 1, index+1)\n",
    "        plt.title(graph_data['title'])\n",
    "        for line in graph_data['lines']:\n",
    "            draw_line(line[0], line[1], line[2])\n",
    "        plt.ylabel(graph_data['labels'][0])\n",
    "        plt.xlabel(graph_data['labels'][1])\n",
    "        \n",
    "def calc_max_values_70(trip_time, ground_ro, gravel_ro, gravel_depth):\n",
    "    max_current = 0.116/math.sqrt(trip_time)   #for >50kgs person\n",
    "    correction_factor = 1 - (0.09*(1-ground_ro/gravel_ro\n",
    "                                   )/(2*gravel_depth+0.09))\n",
    "\n",
    "    max_touch_voltage = (1000+1.5*correction_factor*gravel_ro)*max_current\n",
    "    max_step_voltage = (1000+6*correction_factor*gravel_ro)*max_current\n",
    "\n",
    "    return max_touch_voltage, max_step_voltage\n",
    "\n",
    "def calc_max_values_70(trip_time, ground_ro, gravel_ro, gravel_depth):\n",
    "    max_current = 0.157/math.sqrt(trip_time)   #for >70kgs person\n",
    "    correction_factor = 1 - (0.09*(1-ground_ro/gravel_ro\n",
    "                                   )/(2*gravel_depth+0.09))\n",
    "\n",
    "    max_touch_voltage = (1000+1.5*correction_factor*gravel_ro)*max_current\n",
    "    max_step_voltage = (1000+6*correction_factor*gravel_ro)*max_current\n",
    "\n",
    "    return max_touch_voltage, max_step_voltage\n",
    "\n",
    "def eval_conductor_section(fault_current, kf, trip_time):        \n",
    "    conductor_section_kcmil = fault_current*kf*math.sqrt(trip_time)\n",
    "    conductor_section_mm = conductor_section_kcmil/1.974\n",
    "    diameter = (2*math.sqrt(conductor_section_mm/math.pi))/1000 # Diameter should be returned in meters\n",
    "    if diameter < 0.01:\n",
    "        diameter = 0.01\n",
    "    return diameter\n",
    "\n",
    "def eval_grid_resistance(width, height, depth, spacement, ground_ro):\n",
    "    horizontal_conductors = (height/spacement)+1\n",
    "    vertical_conductors = (width/spacement) + 1\n",
    "    total_length = horizontal_conductors*width + vertical_conductors*height\n",
    "    area = width*height\n",
    "    equivalent_resistance = ground_ro*(\n",
    "        (1/total_length)+(1/math.sqrt(20*area))*(\n",
    "        1 + (1/(1+depth*math.sqrt(20/area)))))\n",
    "    return equivalent_resistance\n",
    "\n",
    "def eval_gpr(maximum_current, grid_resistance):\n",
    "    gpr = maximum_current*grid_resistance\n",
    "    return gpr\n",
    "\n",
    "def eval_voltages(ground_rods, width, height, spacement, diameter, depth, ro, ig, rods_length, rods_number):\n",
    "    horizontal_conductors = (height/spacement)+1\n",
    "    vertical_conductors = (width/spacement) + 1\n",
    "    total_length = horizontal_conductors*width + vertical_conductors*height\n",
    "    \n",
    "    ind_rod = 0\n",
    "    if not ground_rods:\n",
    "        lm = total_length+rods_length\n",
    "    else:\n",
    "        ind_rod = (rods_length/rods_number)\n",
    "        lm = total_length + rods_length*(1.55+(1.22*(ind_rod/math.sqrt(math.pow(height, 2)+math.pow(width, 2)))))\n",
    "    \n",
    "    \n",
    "    area = width*height\n",
    "    perimeter = 2*width+2*height\n",
    "    \n",
    "    na = (2*total_length)/perimeter\n",
    "    nb = math.sqrt(perimeter/(4*math.sqrt(area)))\n",
    "    # Because we only accept square or retangular grinds, we don't need to compute nc and nd\n",
    "    n_eq = na*nb\n",
    "    \n",
    "    if ground_rods:\n",
    "        kii = 1\n",
    "    else:\n",
    "        kii = (1/math.pow(2*n_eq,(2/n_eq)))\n",
    "    \n",
    "\n",
    "    ki = 0.644 + 0.148*n_eq\n",
    "    kh = math.sqrt(1+depth)\n",
    "    km = (1/(2*math.pi))*(math.log(\n",
    "    (math.pow(spacement,2)/(16*depth*diameter))+(math.pow(spacement+2*depth, 2)/(8*spacement*diameter))-(depth/(4*diameter)))+\n",
    "                             (kii/kh)*math.log(8/(math.pi*(2*n_eq-1))))\n",
    "    mesh_voltage = (ro*km*ki*ig)/lm\n",
    "    \n",
    "    ls = 0.75*total_length + 0.85*rods_length\n",
    "    \n",
    "    ks = (1/math.pi)*((1/(2*depth))+(1/(spacement+depth))+(1/spacement)*(1-math.pow(0.5, n_eq-2)))\n",
    "    \n",
    "    step_voltage = (ro*ks*ki*ig)/ls\n",
    "    \n",
    "    return mesh_voltage, step_voltage\n",
    "\n",
    "def evaluate_case(case_info):\n",
    "    \n",
    "    name = case_info['name']\n",
    "    trip_time = case_info['trip_time']\n",
    "    ground_ro = case_info['ground_ro']\n",
    "    gravel_ro = case_info['gravel_ro']\n",
    "    gravel_depth = case_info['gravel_depth']\n",
    "    width = case_info['width']\n",
    "    height = case_info['height']\n",
    "    depth = case_info['depth']\n",
    "    spacement = case_info['spacement']\n",
    "    if_ground_rods = case_info['if_ground_rods']\n",
    "    rods_length = case_info['rods_length']\n",
    "    rods_number = case_info['rods_number']\n",
    "\n",
    "    max_grid_current = case_info['max_grid_current']\n",
    "    fault_current = case_info['fault_current']\n",
    "    conductor_kf = case_info['conductor_kf']\n",
    "    increment_step = case_info['increment_step']\n",
    "    \n",
    "    gpr_array = []\n",
    "    touch_array = []\n",
    "    step_array = []\n",
    "    spacement_array = []\n",
    "    \n",
    "    [max_touch, max_step] = calc_max_values_70(trip_time, ground_ro, gravel_ro, gravel_depth)\n",
    "    conduc_dia = eval_conductor_section(fault_current, conductor_kf, trip_time)\n",
    "\n",
    "    not_finished = True\n",
    "    success = False\n",
    "    \n",
    "    while not_finished:\n",
    "        grid_r = eval_grid_resistance(width, height, depth, spacement, ground_ro)\n",
    "        gpr = eval_gpr(max_grid_current, grid_r)\n",
    "        [mesh_voltage, step_voltage] = eval_voltages(if_ground_rods, width, height, spacement, conduc_dia, depth, ground_ro, max_grid_current, rods_length, rods_number)\n",
    "        gpr_array.append(gpr)\n",
    "        step_array.append(step_voltage)\n",
    "        touch_array.append(mesh_voltage)\n",
    "        spacement_array.append(spacement)\n",
    "        if gpr < max_touch:\n",
    "            print('gpr {} < max touch {}'.format(gpr, max_touch))\n",
    "            not_finished = False\n",
    "            success = True\n",
    "        elif (mesh_voltage < max_touch) and (step_voltage < max_step):\n",
    "            print('mesh {} < max touch {} and step {} < max step {}'.format(mesh_voltage, max_touch, step_voltage, max_step))\n",
    "            not_finished = False\n",
    "            success = True\n",
    "        else:\n",
    "            print('gpr {}, mesh {}, step {}, max touch {}, max step {}'.format(gpr, mesh_voltage, step_voltage, max_touch,max_step))\n",
    "            print('Decreasing the spacement from {} to {}'.format(spacement, spacement-increment_step))\n",
    "\n",
    "            spacement = spacement -increment_step\n",
    "            if spacement < 0.2:\n",
    "                not_finished = False\n",
    "                print(\"Couldn't find a solution\")\n",
    "\n",
    "    max_touch_vector = []\n",
    "    max_step_vector = []\n",
    "    for data in step_array:\n",
    "        max_step_vector.append(max_step)\n",
    "    for data in touch_array:\n",
    "        max_touch_vector.append(max_touch)\n",
    "\n",
    "    touch_potential_data = {\"title\": \"Touch Potential Data\", \"lines\": [[spacement_array, touch_array, 'b'],\n",
    "                                                                       [spacement_array, max_touch_vector, 'g']], \"labels\":\n",
    "                           ['Touch Potential', 'Spacement']}\n",
    "    step_potential_data = {\"title\": \"Step Potential Data\", \"lines\": [[spacement_array, step_array, 'b'],\n",
    "                                                                       [spacement_array, max_step_vector, 'g']], \"labels\":\n",
    "                           ['Step Potential', 'Spacement']}\n",
    "    gpr_data = {\"title\": \"GPR Data\", \"lines\": [[spacement_array, gpr_array, 'b'],\n",
    "                                                                       [spacement_array, max_touch_vector, 'g']], \"labels\":\n",
    "                           ['GPR', 'Spacement']}\n",
    "\n",
    "    horizontal_conductors = (height/spacement)+1\n",
    "    vertical_conductors = (width/spacement) + 1\n",
    "    total_length = horizontal_conductors*width + vertical_conductors*height\n",
    "    \n",
    "    \n",
    "    data = [gpr_data, touch_potential_data, step_potential_data]\n",
    "    plt.figure()\n",
    "    draw_graph(data)\n",
    "    fig = plt.gcf()\n",
    "    fig.set_size_inches(15, 30)\n",
    "    fig.savefig('{}.png'.format(name), dpi=100)\n",
    "    plt.show()\n",
    "    return success, conduc_dia, total_length+rods_length, spacement, data"
   ]
  },
  {
   "cell_type": "code",
   "execution_count": 79,
   "metadata": {},
   "outputs": [],
   "source": [
    ""
   ]
  },
  {
   "cell_type": "code",
   "execution_count": 121,
   "metadata": {},
   "outputs": [
    {
     "name": "stdout",
     "output_type": "stream",
     "text": [
      "gpr 5746.19252055694, mesh 1353.305389374128, step 661.4900780468466, max touch 1329.022974341125, max step 4262.903879962099\n",
      "Decreasing the spacement from 10 to 9.5\n",
      "mesh 1305.4826426797488 < max touch 1329.022974341125 and step 656.8571042310664 < max step 4262.903879962099\n"
     ]
    },
    {
     "data": {
      "image/png": "[encoded data removed]",
      "text/plain": [
       "<matplotlib.figure.Figure at 0x10ecfd0>"
      ]
     },
     "metadata": {},
     "output_type": "display_data"
    },
    {
     "data": {
      "text/plain": [
       "(True,\n",
       " 0.01,\n",
       " 1171.578947368421,\n",
       " 9.5,\n",
       " [{'labels': ['GPR', 'Spacement'],\n",
       "   'lines': [[[10, 9.5], [5746.19252055694, 5714.745979676437], 'b'],\n",
       "    [[10, 9.5], [1329.022974341125, 1329.022974341125], 'g']],\n",
       "   'title': 'GPR Data'},\n",
       "  {'labels': ['Touch Potential', 'Spacement'],\n",
       "   'lines': [[[10, 9.5], [1353.305389374128, 1305.4826426797488], 'b'],\n",
       "    [[10, 9.5], [1329.022974341125, 1329.022974341125], 'g']],\n",
       "   'title': 'Touch Potential Data'},\n",
       "  {'labels': ['Step Potential', 'Spacement'],\n",
       "   'lines': [[[10, 9.5], [661.4900780468466, 656.8571042310664], 'b'],\n",
       "    [[10, 9.5], [4262.903879962099, 4262.903879962099], 'g']],\n",
       "   'title': 'Step Potential Data'}])"
      ]
     },
     "execution_count": 121,
     "metadata": {},
     "output_type": "execute_result"
    }
   ],
   "source": [
    "case_info = {\n",
    "    'name' : 'ASD',\n",
    "    'trip_time' : 0.2,\n",
    "    'ground_ro' : 400,\n",
    "    'gravel_ro' : 2500,\n",
    "    'gravel_depth' : 0.102,\n",
    "    'width' : 70,\n",
    "    'height' : 70,\n",
    "    'depth' : 0.5,\n",
    "    'spacement' : 10,\n",
    "    'if_ground_rods' : False,\n",
    "    'rods_length' : 0,\n",
    "    'rods_number' : 0,\n",
    "    'max_grid_current' : 2000,\n",
    "    'fault_current' : 8.814,\n",
    "    'conductor_kf' : 7.06,\n",
    "    'increment_step' : 0.5\n",
    "}\n",
    "\n",
    "\n",
    "evaluate_case(case_info)"
   ]
  },
  {
   "cell_type": "code",
   "execution_count": 105,
   "metadata": {},
   "outputs": [
    {
     "name": "stdout",
     "output_type": "stream",
     "text": [
      "{'azulao': 'azuleta', 'numero': 20, 'teste': 'macaco', 'comida': 'banana'}\n"
     ]
    }
   ],
   "source": [
    "dic = {\n",
    "    'teste':'macaco',\n",
    "    'azulao':'azuleta',\n",
    "    'numero':20,\n",
    "    'comida':'banana'\n",
    "}\n",
    "\n",
    "\n",
    "var_list = ['teste', 'azulao', 'numero', 'comida']\n",
    "\n",
    "\n",
    "for cat in var_list:\n",
    "    \n",
    "foo = dict((cat,dic[cat])for cat in var_list) \n",
    "print(foo)"
   ]
  },
  {
   "cell_type": "code",
   "execution_count": 77,
   "metadata": {},
   "outputs": [
    {
     "name": "stdout",
     "output_type": "stream",
     "text": [
      "doing calc for spacement = 7m\n",
      "0.889608517824586\n",
      "doing calc for spacement = 6.5m\n",
      "0.8680499747589654\n",
      "doing calc for spacement = 6.0m\n",
      "0.844967815399228\n",
      "doing calc for spacement = 5.5m\n",
      "0.8201404191026942\n",
      "doing calc for spacement = 5.0m\n",
      "0.7932980839200245\n",
      "doing calc for spacement = 4.5m\n",
      "0.7641105786950384\n",
      "doing calc for spacement = 4.0m\n",
      "0.7321728455785488\n",
      "doing calc for spacement = 3.5m\n",
      "0.6969924547655152\n",
      "doing calc for spacement = 3.0m\n",
      "0.6579923611366824\n",
      "doing calc for spacement = 2.5m\n",
      "0.6145759335412208\n",
      "doing calc for spacement = 2.0m\n",
      "0.5664203133974388\n",
      "doing calc for spacement = 1.5m\n",
      "0.5146277297754377\n",
      "doing calc for spacement = 1.0m\n",
      "0.4663741379799984\n"
     ]
    }
   ],
   "source": [
    ""
   ]
  },
  {
   "cell_type": "code",
   "execution_count": 66,
   "metadata": {},
   "outputs": [
    {
     "data": {
      "text/plain": [
       "-0.9817078740236755"
      ]
     },
     "execution_count": 66,
     "metadata": {},
     "output_type": "execute_result"
    }
   ],
   "source": [
    "(kii/kh)*math.log(8/(math.pi*(2*n-1)))"
   ]
  },
  {
   "cell_type": "code",
   "execution_count": 67,
   "metadata": {},
   "outputs": [
    {
     "data": {
      "text/plain": [
       "6.571283042360924"
      ]
     },
     "execution_count": 67,
     "metadata": {},
     "output_type": "execute_result"
    }
   ],
   "source": [
    "math.log((math.pow(spacement,2)/(16*depth*diameter))\n",
    "                             +(math.pow(spacement+2*depth, 2)/(8*spacement*diameter))-(depth/(4*diameter)))"
   ]
  }
 ],
 "metadata": {
  "celltoolbar": "Edit Metadata",
  "kernelspec": {
   "display_name": "Python 3",
   "language": "python",
   "name": "python3"
  },
  "language_info": {
   "codemirror_mode": {
    "name": "ipython",
    "version": 3.0
   },
   "file_extension": ".py",
   "mimetype": "text/x-python",
   "name": "python",
   "nbconvert_exporter": "python",
   "pygments_lexer": "ipython3",
   "version": "3.5.2"
  }
 },
 "nbformat": 4,
 "nbformat_minor": 0
}