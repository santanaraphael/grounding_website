{
 "cells": [
  {
   "cell_type": "code",
   "execution_count": 124,
   "metadata": {},
   "outputs": [],
   "source": [
    "import math\n",
    "\n",
    "def eval_conductor_section(fault_current, kf, trip_time):        \n",
    "    conductor_section_kcmil = fault_current*kf*math.sqrt(trip_time)\n",
    "    conductor_section_mm = conductor_section_kcmil/1.974\n",
    "    diameter = (2*math.sqrt(conductor_section_mm/math.pi))/1000 # Diameter should be returned in meters\n",
    "    return diameter\n",
    "\n",
    "def calc_max_values(trip_time, ground_ro, gravel_ro, gravel_depth):\n",
    "    max_current = 0.157/math.sqrt(trip_time)\n",
    "    correction_factor = 1 - (0.09*(1-ground_ro/gravel_ro\n",
    "                                   )/(2*gravel_depth+0.09))\n",
    "\n",
    "    max_touch_voltage = (1000+1.5*correction_factor*gravel_ro)*max_current\n",
    "    max_step_voltage = (1000+6*correction_factor*gravel_ro)*max_current\n",
    "    print(correction_factor)\n",
    "    return max_touch_voltage, max_step_voltage\n",
    "\n",
    "def eval_grid_resistance(width, height, depth, spacement, ground_ro):\n",
    "    horizontal_conductors = (height/spacement)+1\n",
    "    vertical_conductors = (width/spacement) + 1\n",
    "    total_length = horizontal_conductors*width + vertical_conductors*height\n",
    "    area = width*height\n",
    "    equivalent_resistance = ground_ro*(\n",
    "        (1/total_length)+(1/math.sqrt(20*area))*(\n",
    "        1 + (1/(1+depth*math.sqrt(20/area)))))\n",
    "    return equivalent_resistance\n",
    "\n",
    "def eval_gpr(maximum_current, grid_resistance):\n",
    "    gpr = maximum_current*grid_resistance\n",
    "    return gpr\n",
    "\n",
    "def eval_voltages(ground_rods, width, height, spacement, depth, ro, ig, rods_length, rods_number):\n",
    "    horizontal_conductors = (height/spacement)+1\n",
    "    vertical_conductors = (width/spacement) + 1\n",
    "    total_length = horizontal_conductors*width + vertical_conductors*height\n",
    "    if not ground_rods:\n",
    "        lm = total_length+rods_length\n",
    "    else:\n",
    "        ind_rod = (rods_length/rods_number)\n",
    "        lm = total_length + rods_length*(1.55+(1.22*(ind_rod/math.sqrt(math.pow(height, 2)+math.pow(width, 2)))))\n",
    "    area = width*height\n",
    "    perimeter = 2*width+2*height\n",
    "    na = (2*total_length)/perimeter\n",
    "    nb = math.sqrt(perimeter/(4*math.sqrt(area)))\n",
    "    # Because we only accept square or retangular grinds, we don't need to compute nc and nd\n",
    "    n_eq = na*nb\n",
    "    if ground_rods:\n",
    "        kii = 1\n",
    "    else:\n",
    "        kii = (1/math.pow(2*n_eq,(2/n_eq)))\n",
    "    \n",
    "\n",
    "    ki = 0.644 + 0.148*n_eq\n",
    "    kh = math.sqrt(1+depth)\n",
    "    km = (1/(2*math.pi))*(math.log(\n",
    "    (math.pow(spacement,2)/(16*depth*diameter))+(math.pow(spacement+2*depth, 2)/(8*spacement*diameter))-(depth/(4*diameter)))+\n",
    "                             (kii/kh)*math.log(8/(math.pi*(2*n-1))))\n",
    "    mesh_voltage = (ro*km*ki*ig)/lm\n",
    "    \n",
    "    ls = 0.75*total_length + 0.85*rods_length\n",
    "    \n",
    "    ks =(1/math.pi)*((1/(2*depth))+(1/(spacement+depth))+(1/spacement)*(1-math.pow(0.5, n_eq-2)))\n",
    "    \n",
    "    step_voltage = (ro*ks*ki*ig)/ls\n",
    "    return mesh_voltage, step_voltage\n",
    "\n",
    "    \n",
    "    \n",
    "    "
   ]
  },
  {
   "cell_type": "code",
   "execution_count": 129,
   "metadata": {},
   "outputs": [
    {
     "name": "stdout",
     "output_type": "stream",
     "text": [
      "(749.0586110802963, 549.1107928258439)\n"
     ]
    }
   ],
   "source": [
    "print(eval_voltages(True, 70, 70, 7, 0.5, 400, 1908, 150, 20))"
   ]
  },
  {
   "cell_type": "code",
   "execution_count": 32,
   "metadata": {},
   "outputs": [],
   "source": [
    "height = 20\n",
    "width = 50\n",
    "spacement = 1"
   ]
  },
  {
   "cell_type": "code",
   "execution_count": 33,
   "metadata": {},
   "outputs": [],
   "source": [
    "horizontal_conductors = (height/spacement)+1\n",
    "vertical_conductors = (width/spacement) + 1\n",
    "total_length = horizontal_conductors*width + vertical_conductors*height\n",
    "area = width*height\n",
    "perimeter = 2*width+2*height\n",
    "nb = math.sqrt(perimeter/(4*math.sqrt(area)))\n",
    "na = (2*total_length)/perimeter"
   ]
  },
  {
   "cell_type": "code",
   "execution_count": 78,
   "metadata": {},
   "outputs": [],
   "source": [
    "spacement = 7\n",
    "depth = 0.5\n",
    "diameter = 0.01\n",
    "n = 11\n",
    "kii = 0.57\n",
    "kh = 1.225"
   ]
  },
  {
   "cell_type": "code",
   "execution_count": 131,
   "metadata": {},
   "outputs": [
    {
     "name": "stdout",
     "output_type": "stream",
     "text": [
      "Doing calcs for spacement = 10m\n",
      "Mesh voltage is 982.9716309938763V and Step voltage is 476.7011591219613V\n",
      "Doing calcs for spacement = 9.5m\n",
      "Mesh voltage is 959.8211147475148V and Step voltage is 478.5154281114815V\n",
      "Doing calcs for spacement = 9.0m\n",
      "Mesh voltage is 935.7949544914362V and Step voltage is 480.6274696263304V\n",
      "Doing calcs for spacement = 8.5m\n",
      "Mesh voltage is 910.8198426508873V and Step voltage is 483.09670109611056V\n",
      "Doing calcs for spacement = 8.0m\n",
      "Mesh voltage is 884.8118085427525V and Step voltage is 485.9980548455684V\n",
      "Doing calcs for spacement = 7.5m\n",
      "Mesh voltage is 857.6739552808168V and Step voltage is 489.4270701101472V\n",
      "Doing calcs for spacement = 7.0m\n",
      "Mesh voltage is 829.2935796749044V and Step voltage is 493.50707203864386V\n",
      "Doing calcs for spacement = 6.5m\n",
      "Mesh voltage is 799.5384817733586V and Step voltage is 498.39951629565354V\n",
      "Doing calcs for spacement = 6.0m\n",
      "Mesh voltage is 768.2522142153371V and Step voltage is 504.3192797461306V\n",
      "Doing calcs for spacement = 5.5m\n",
      "Mesh voltage is 735.2479666617509V and Step voltage is 511.5579438966467V\n",
      "Doing calcs for spacement = 5.0m\n",
      "Mesh voltage is 700.3007677030654V and Step voltage is 520.520498181419V\n",
      "Doing calcs for spacement = 4.5m\n",
      "Mesh voltage is 663.1378436502921V and Step voltage is 531.7855818551014V\n",
      "Doing calcs for spacement = 4.0m\n",
      "Mesh voltage is 623.4276900281712V and Step voltage is 546.2091621665153V\n",
      "Doing calcs for spacement = 3.5m\n",
      "Mesh voltage is 580.7708892511374V and Step voltage is 565.1133698298818V\n",
      "Doing calcs for spacement = 3.0m\n",
      "Mesh voltage is 534.7038162789224V and Step voltage is 590.6552677624633V\n",
      "Doing calcs for spacement = 2.5m\n",
      "Mesh voltage is 484.75341479232276V and Step voltage is 626.6142350127745V\n",
      "Doing calcs for spacement = 2.0m\n",
      "Mesh voltage is 430.67699106341985V and Step voltage is 680.2874393161195V\n",
      "Doing calcs for spacement = 1.5m\n",
      "Mesh voltage is 373.3914540426179V and Step voltage is 767.9076832239898V\n",
      "Doing calcs for spacement = 1.0m\n",
      "Mesh voltage is 318.69053384816334V and Step voltage is 934.9730004644323V\n",
      "Doing calcs for spacement = 0.5m\n",
      "Mesh voltage is 294.03641271842736V and Step voltage is 1386.4823160241986V\n"
     ]
    }
   ],
   "source": [
    "spacement = 10\n",
    "while spacement > 0.2:\n",
    "    print('Doing calcs for spacement = {}m'.format(spacement))\n",
    "    mesh, step = eval_voltages(False, 70, 70, spacement, 0.5, 400, 1908, 320, 10)\n",
    "    print('Mesh voltage is {}V and Step voltage is {}V'.format(mesh,step))\n",
    "    spacement = spacement - 0.5"
   ]
  },
  {
   "cell_type": "code",
   "execution_count": 77,
   "metadata": {},
   "outputs": [
    {
     "name": "stdout",
     "output_type": "stream",
     "text": [
      "doing calc for spacement = 7m\n",
      "0.889608517824586\n",
      "doing calc for spacement = 6.5m\n",
      "0.8680499747589654\n",
      "doing calc for spacement = 6.0m\n",
      "0.844967815399228\n",
      "doing calc for spacement = 5.5m\n",
      "0.8201404191026942\n",
      "doing calc for spacement = 5.0m\n",
      "0.7932980839200245\n",
      "doing calc for spacement = 4.5m\n",
      "0.7641105786950384\n",
      "doing calc for spacement = 4.0m\n",
      "0.7321728455785488\n",
      "doing calc for spacement = 3.5m\n",
      "0.6969924547655152\n",
      "doing calc for spacement = 3.0m\n",
      "0.6579923611366824\n",
      "doing calc for spacement = 2.5m\n",
      "0.6145759335412208\n",
      "doing calc for spacement = 2.0m\n",
      "0.5664203133974388\n",
      "doing calc for spacement = 1.5m\n",
      "0.5146277297754377\n",
      "doing calc for spacement = 1.0m\n",
      "0.4663741379799984\n"
     ]
    }
   ],
   "source": []
  },
  {
   "cell_type": "code",
   "execution_count": 66,
   "metadata": {},
   "outputs": [
    {
     "data": {
      "text/plain": [
       "-0.9817078740236755"
      ]
     },
     "execution_count": 66,
     "metadata": {},
     "output_type": "execute_result"
    }
   ],
   "source": [
    "(kii/kh)*math.log(8/(math.pi*(2*n-1)))"
   ]
  },
  {
   "cell_type": "code",
   "execution_count": 67,
   "metadata": {},
   "outputs": [
    {
     "data": {
      "text/plain": [
       "6.571283042360924"
      ]
     },
     "execution_count": 67,
     "metadata": {},
     "output_type": "execute_result"
    }
   ],
   "source": [
    "math.log((math.pow(spacement,2)/(16*depth*diameter))\n",
    "                             +(math.pow(spacement+2*depth, 2)/(8*spacement*diameter))-(depth/(4*diameter)))"
   ]
  }
 ],
 "metadata": {
  "kernelspec": {
   "display_name": "Python 3",
   "language": "python",
   "name": "python3"
  },
  "language_info": {
   "codemirror_mode": {
    "name": "ipython",
    "version": 3
   },
   "file_extension": ".py",
   "mimetype": "text/x-python",
   "name": "python",
   "nbconvert_exporter": "python",
   "pygments_lexer": "ipython3",
   "version": "3.5.2"
  }
 },
 "nbformat": 4,
 "nbformat_minor": 2
}
